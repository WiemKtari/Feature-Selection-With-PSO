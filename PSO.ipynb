{
  "nbformat": 4,
  "nbformat_minor": 0,
  "metadata": {
    "colab": {
      "provenance": []
    },
    "kernelspec": {
      "name": "python3",
      "display_name": "Python 3"
    },
    "language_info": {
      "name": "python"
    }
  },
  "cells": [
    {
      "cell_type": "markdown",
      "source": [
        "# Load and Preprocess the data"
      ],
      "metadata": {
        "id": "X3b0JxHthwK0"
      }
    },
    {
      "cell_type": "code",
      "execution_count": 73,
      "metadata": {
        "id": "QDgakvEFc5_P"
      },
      "outputs": [],
      "source": [
        "import pandas as pd\n",
        "import numpy as np\n",
        "import time\n",
        "from sklearn.model_selection import train_test_split\n",
        "from sklearn.preprocessing import StandardScaler"
      ]
    },
    {
      "cell_type": "code",
      "source": [
        "df=pd.read_csv(\"Breast.csv\")"
      ],
      "metadata": {
        "id": "Fa7SlXPNdaST"
      },
      "execution_count": 74,
      "outputs": []
    },
    {
      "cell_type": "code",
      "source": [
        "df.shape"
      ],
      "metadata": {
        "colab": {
          "base_uri": "https://localhost:8080/"
        },
        "id": "VybR-T4zgVjj",
        "outputId": "bdf6529f-83f7-4b2c-80a4-b849f8e8406b"
      },
      "execution_count": 75,
      "outputs": [
        {
          "output_type": "execute_result",
          "data": {
            "text/plain": [
              "(96, 24483)"
            ]
          },
          "metadata": {},
          "execution_count": 75
        }
      ]
    },
    {
      "cell_type": "code",
      "source": [
        "# Assign column names\n",
        "df.columns = [f'feature_{i}' for i in range(df.shape[1] - 1)] + ['target']"
      ],
      "metadata": {
        "id": "8KEbJNN_hWpu"
      },
      "execution_count": 76,
      "outputs": []
    },
    {
      "cell_type": "code",
      "source": [
        "df.columns"
      ],
      "metadata": {
        "colab": {
          "base_uri": "https://localhost:8080/"
        },
        "id": "jZ_ehS88h3U0",
        "outputId": "fa6a4eae-5b15-4eb8-a896-cdc3b7f53c56"
      },
      "execution_count": 77,
      "outputs": [
        {
          "output_type": "execute_result",
          "data": {
            "text/plain": [
              "Index(['feature_0', 'feature_1', 'feature_2', 'feature_3', 'feature_4',\n",
              "       'feature_5', 'feature_6', 'feature_7', 'feature_8', 'feature_9',\n",
              "       ...\n",
              "       'feature_24473', 'feature_24474', 'feature_24475', 'feature_24476',\n",
              "       'feature_24477', 'feature_24478', 'feature_24479', 'feature_24480',\n",
              "       'feature_24481', 'target'],\n",
              "      dtype='object', length=24483)"
            ]
          },
          "metadata": {},
          "execution_count": 77
        }
      ]
    },
    {
      "cell_type": "code",
      "source": [
        "df['target'].value_counts()"
      ],
      "metadata": {
        "colab": {
          "base_uri": "https://localhost:8080/",
          "height": 178
        },
        "id": "HDb9wreVioeF",
        "outputId": "977989a7-8e87-4ff1-be5b-5c86504b26df"
      },
      "execution_count": 78,
      "outputs": [
        {
          "output_type": "execute_result",
          "data": {
            "text/plain": [
              "target\n",
              "0    51\n",
              "1    45\n",
              "Name: count, dtype: int64"
            ],
            "text/html": [
              "<div>\n",
              "<style scoped>\n",
              "    .dataframe tbody tr th:only-of-type {\n",
              "        vertical-align: middle;\n",
              "    }\n",
              "\n",
              "    .dataframe tbody tr th {\n",
              "        vertical-align: top;\n",
              "    }\n",
              "\n",
              "    .dataframe thead th {\n",
              "        text-align: right;\n",
              "    }\n",
              "</style>\n",
              "<table border=\"1\" class=\"dataframe\">\n",
              "  <thead>\n",
              "    <tr style=\"text-align: right;\">\n",
              "      <th></th>\n",
              "      <th>count</th>\n",
              "    </tr>\n",
              "    <tr>\n",
              "      <th>target</th>\n",
              "      <th></th>\n",
              "    </tr>\n",
              "  </thead>\n",
              "  <tbody>\n",
              "    <tr>\n",
              "      <th>0</th>\n",
              "      <td>51</td>\n",
              "    </tr>\n",
              "    <tr>\n",
              "      <th>1</th>\n",
              "      <td>45</td>\n",
              "    </tr>\n",
              "  </tbody>\n",
              "</table>\n",
              "</div><br><label><b>dtype:</b> int64</label>"
            ]
          },
          "metadata": {},
          "execution_count": 78
        }
      ]
    },
    {
      "cell_type": "code",
      "source": [
        "df.head()"
      ],
      "metadata": {
        "colab": {
          "base_uri": "https://localhost:8080/",
          "height": 255
        },
        "id": "fllIKPVdh4du",
        "outputId": "11f089b3-6573-4437-8217-0459f78703b9"
      },
      "execution_count": 79,
      "outputs": [
        {
          "output_type": "execute_result",
          "data": {
            "text/plain": [
              "   feature_0  feature_1  feature_2  feature_3  feature_4  feature_5  \\\n",
              "0          2     -0.081      0.009     -0.091     -0.518     -0.502   \n",
              "1          3     -0.125      0.070     -0.006     -0.575     -0.585   \n",
              "2          4     -0.270      0.123      0.056     -0.499     -0.402   \n",
              "3          5     -0.141      0.025     -0.031     -0.465     -0.533   \n",
              "4          6     -0.149      0.068     -0.084     -0.557     -0.595   \n",
              "\n",
              "   feature_6  feature_7  feature_8  feature_9  ...  feature_24473  \\\n",
              "0     -0.149      0.098     -0.090      0.138  ...         -0.531   \n",
              "1     -0.183      0.102      0.023     -0.350  ...         -0.883   \n",
              "2     -0.099     -0.145     -0.103      0.181  ...         -0.044   \n",
              "3     -0.065      0.101     -0.008     -0.019  ...          0.280   \n",
              "4     -0.062     -0.056     -0.009      0.031  ...         -0.258   \n",
              "\n",
              "   feature_24474  feature_24475  feature_24476  feature_24477  feature_24478  \\\n",
              "0         -0.020          0.014         -0.123          0.148          0.024   \n",
              "1         -0.159          0.022          0.006         -0.086          0.019   \n",
              "2         -0.096          0.018          0.000          0.076          0.057   \n",
              "3         -0.088          0.043          0.207         -0.124         -0.041   \n",
              "4         -0.135         -0.013         -0.045         -0.114          0.643   \n",
              "\n",
              "   feature_24479  feature_24480  feature_24481  target  \n",
              "0         -0.070         -0.209          0.105       1  \n",
              "1          0.026         -0.822          0.199       1  \n",
              "2         -0.016         -0.360         -0.038       1  \n",
              "3         -0.077         -0.432         -0.015       1  \n",
              "4         -0.162         -0.976         -0.078       1  \n",
              "\n",
              "[5 rows x 24483 columns]"
            ],
            "text/html": [
              "\n",
              "  <div id=\"df-cce658d3-7f7a-4aef-ab5b-2740b29dbdce\" class=\"colab-df-container\">\n",
              "    <div>\n",
              "<style scoped>\n",
              "    .dataframe tbody tr th:only-of-type {\n",
              "        vertical-align: middle;\n",
              "    }\n",
              "\n",
              "    .dataframe tbody tr th {\n",
              "        vertical-align: top;\n",
              "    }\n",
              "\n",
              "    .dataframe thead th {\n",
              "        text-align: right;\n",
              "    }\n",
              "</style>\n",
              "<table border=\"1\" class=\"dataframe\">\n",
              "  <thead>\n",
              "    <tr style=\"text-align: right;\">\n",
              "      <th></th>\n",
              "      <th>feature_0</th>\n",
              "      <th>feature_1</th>\n",
              "      <th>feature_2</th>\n",
              "      <th>feature_3</th>\n",
              "      <th>feature_4</th>\n",
              "      <th>feature_5</th>\n",
              "      <th>feature_6</th>\n",
              "      <th>feature_7</th>\n",
              "      <th>feature_8</th>\n",
              "      <th>feature_9</th>\n",
              "      <th>...</th>\n",
              "      <th>feature_24473</th>\n",
              "      <th>feature_24474</th>\n",
              "      <th>feature_24475</th>\n",
              "      <th>feature_24476</th>\n",
              "      <th>feature_24477</th>\n",
              "      <th>feature_24478</th>\n",
              "      <th>feature_24479</th>\n",
              "      <th>feature_24480</th>\n",
              "      <th>feature_24481</th>\n",
              "      <th>target</th>\n",
              "    </tr>\n",
              "  </thead>\n",
              "  <tbody>\n",
              "    <tr>\n",
              "      <th>0</th>\n",
              "      <td>2</td>\n",
              "      <td>-0.081</td>\n",
              "      <td>0.009</td>\n",
              "      <td>-0.091</td>\n",
              "      <td>-0.518</td>\n",
              "      <td>-0.502</td>\n",
              "      <td>-0.149</td>\n",
              "      <td>0.098</td>\n",
              "      <td>-0.090</td>\n",
              "      <td>0.138</td>\n",
              "      <td>...</td>\n",
              "      <td>-0.531</td>\n",
              "      <td>-0.020</td>\n",
              "      <td>0.014</td>\n",
              "      <td>-0.123</td>\n",
              "      <td>0.148</td>\n",
              "      <td>0.024</td>\n",
              "      <td>-0.070</td>\n",
              "      <td>-0.209</td>\n",
              "      <td>0.105</td>\n",
              "      <td>1</td>\n",
              "    </tr>\n",
              "    <tr>\n",
              "      <th>1</th>\n",
              "      <td>3</td>\n",
              "      <td>-0.125</td>\n",
              "      <td>0.070</td>\n",
              "      <td>-0.006</td>\n",
              "      <td>-0.575</td>\n",
              "      <td>-0.585</td>\n",
              "      <td>-0.183</td>\n",
              "      <td>0.102</td>\n",
              "      <td>0.023</td>\n",
              "      <td>-0.350</td>\n",
              "      <td>...</td>\n",
              "      <td>-0.883</td>\n",
              "      <td>-0.159</td>\n",
              "      <td>0.022</td>\n",
              "      <td>0.006</td>\n",
              "      <td>-0.086</td>\n",
              "      <td>0.019</td>\n",
              "      <td>0.026</td>\n",
              "      <td>-0.822</td>\n",
              "      <td>0.199</td>\n",
              "      <td>1</td>\n",
              "    </tr>\n",
              "    <tr>\n",
              "      <th>2</th>\n",
              "      <td>4</td>\n",
              "      <td>-0.270</td>\n",
              "      <td>0.123</td>\n",
              "      <td>0.056</td>\n",
              "      <td>-0.499</td>\n",
              "      <td>-0.402</td>\n",
              "      <td>-0.099</td>\n",
              "      <td>-0.145</td>\n",
              "      <td>-0.103</td>\n",
              "      <td>0.181</td>\n",
              "      <td>...</td>\n",
              "      <td>-0.044</td>\n",
              "      <td>-0.096</td>\n",
              "      <td>0.018</td>\n",
              "      <td>0.000</td>\n",
              "      <td>0.076</td>\n",
              "      <td>0.057</td>\n",
              "      <td>-0.016</td>\n",
              "      <td>-0.360</td>\n",
              "      <td>-0.038</td>\n",
              "      <td>1</td>\n",
              "    </tr>\n",
              "    <tr>\n",
              "      <th>3</th>\n",
              "      <td>5</td>\n",
              "      <td>-0.141</td>\n",
              "      <td>0.025</td>\n",
              "      <td>-0.031</td>\n",
              "      <td>-0.465</td>\n",
              "      <td>-0.533</td>\n",
              "      <td>-0.065</td>\n",
              "      <td>0.101</td>\n",
              "      <td>-0.008</td>\n",
              "      <td>-0.019</td>\n",
              "      <td>...</td>\n",
              "      <td>0.280</td>\n",
              "      <td>-0.088</td>\n",
              "      <td>0.043</td>\n",
              "      <td>0.207</td>\n",
              "      <td>-0.124</td>\n",
              "      <td>-0.041</td>\n",
              "      <td>-0.077</td>\n",
              "      <td>-0.432</td>\n",
              "      <td>-0.015</td>\n",
              "      <td>1</td>\n",
              "    </tr>\n",
              "    <tr>\n",
              "      <th>4</th>\n",
              "      <td>6</td>\n",
              "      <td>-0.149</td>\n",
              "      <td>0.068</td>\n",
              "      <td>-0.084</td>\n",
              "      <td>-0.557</td>\n",
              "      <td>-0.595</td>\n",
              "      <td>-0.062</td>\n",
              "      <td>-0.056</td>\n",
              "      <td>-0.009</td>\n",
              "      <td>0.031</td>\n",
              "      <td>...</td>\n",
              "      <td>-0.258</td>\n",
              "      <td>-0.135</td>\n",
              "      <td>-0.013</td>\n",
              "      <td>-0.045</td>\n",
              "      <td>-0.114</td>\n",
              "      <td>0.643</td>\n",
              "      <td>-0.162</td>\n",
              "      <td>-0.976</td>\n",
              "      <td>-0.078</td>\n",
              "      <td>1</td>\n",
              "    </tr>\n",
              "  </tbody>\n",
              "</table>\n",
              "<p>5 rows × 24483 columns</p>\n",
              "</div>\n",
              "    <div class=\"colab-df-buttons\">\n",
              "\n",
              "  <div class=\"colab-df-container\">\n",
              "    <button class=\"colab-df-convert\" onclick=\"convertToInteractive('df-cce658d3-7f7a-4aef-ab5b-2740b29dbdce')\"\n",
              "            title=\"Convert this dataframe to an interactive table.\"\n",
              "            style=\"display:none;\">\n",
              "\n",
              "  <svg xmlns=\"http://www.w3.org/2000/svg\" height=\"24px\" viewBox=\"0 -960 960 960\">\n",
              "    <path d=\"M120-120v-720h720v720H120Zm60-500h600v-160H180v160Zm220 220h160v-160H400v160Zm0 220h160v-160H400v160ZM180-400h160v-160H180v160Zm440 0h160v-160H620v160ZM180-180h160v-160H180v160Zm440 0h160v-160H620v160Z\"/>\n",
              "  </svg>\n",
              "    </button>\n",
              "\n",
              "  <style>\n",
              "    .colab-df-container {\n",
              "      display:flex;\n",
              "      gap: 12px;\n",
              "    }\n",
              "\n",
              "    .colab-df-convert {\n",
              "      background-color: #E8F0FE;\n",
              "      border: none;\n",
              "      border-radius: 50%;\n",
              "      cursor: pointer;\n",
              "      display: none;\n",
              "      fill: #1967D2;\n",
              "      height: 32px;\n",
              "      padding: 0 0 0 0;\n",
              "      width: 32px;\n",
              "    }\n",
              "\n",
              "    .colab-df-convert:hover {\n",
              "      background-color: #E2EBFA;\n",
              "      box-shadow: 0px 1px 2px rgba(60, 64, 67, 0.3), 0px 1px 3px 1px rgba(60, 64, 67, 0.15);\n",
              "      fill: #174EA6;\n",
              "    }\n",
              "\n",
              "    .colab-df-buttons div {\n",
              "      margin-bottom: 4px;\n",
              "    }\n",
              "\n",
              "    [theme=dark] .colab-df-convert {\n",
              "      background-color: #3B4455;\n",
              "      fill: #D2E3FC;\n",
              "    }\n",
              "\n",
              "    [theme=dark] .colab-df-convert:hover {\n",
              "      background-color: #434B5C;\n",
              "      box-shadow: 0px 1px 3px 1px rgba(0, 0, 0, 0.15);\n",
              "      filter: drop-shadow(0px 1px 2px rgba(0, 0, 0, 0.3));\n",
              "      fill: #FFFFFF;\n",
              "    }\n",
              "  </style>\n",
              "\n",
              "    <script>\n",
              "      const buttonEl =\n",
              "        document.querySelector('#df-cce658d3-7f7a-4aef-ab5b-2740b29dbdce button.colab-df-convert');\n",
              "      buttonEl.style.display =\n",
              "        google.colab.kernel.accessAllowed ? 'block' : 'none';\n",
              "\n",
              "      async function convertToInteractive(key) {\n",
              "        const element = document.querySelector('#df-cce658d3-7f7a-4aef-ab5b-2740b29dbdce');\n",
              "        const dataTable =\n",
              "          await google.colab.kernel.invokeFunction('convertToInteractive',\n",
              "                                                    [key], {});\n",
              "        if (!dataTable) return;\n",
              "\n",
              "        const docLinkHtml = 'Like what you see? Visit the ' +\n",
              "          '<a target=\"_blank\" href=https://colab.research.google.com/notebooks/data_table.ipynb>data table notebook</a>'\n",
              "          + ' to learn more about interactive tables.';\n",
              "        element.innerHTML = '';\n",
              "        dataTable['output_type'] = 'display_data';\n",
              "        await google.colab.output.renderOutput(dataTable, element);\n",
              "        const docLink = document.createElement('div');\n",
              "        docLink.innerHTML = docLinkHtml;\n",
              "        element.appendChild(docLink);\n",
              "      }\n",
              "    </script>\n",
              "  </div>\n",
              "\n",
              "\n",
              "    <div id=\"df-80784433-2884-4d67-9fec-0d07c20ac90f\">\n",
              "      <button class=\"colab-df-quickchart\" onclick=\"quickchart('df-80784433-2884-4d67-9fec-0d07c20ac90f')\"\n",
              "                title=\"Suggest charts\"\n",
              "                style=\"display:none;\">\n",
              "\n",
              "<svg xmlns=\"http://www.w3.org/2000/svg\" height=\"24px\"viewBox=\"0 0 24 24\"\n",
              "     width=\"24px\">\n",
              "    <g>\n",
              "        <path d=\"M19 3H5c-1.1 0-2 .9-2 2v14c0 1.1.9 2 2 2h14c1.1 0 2-.9 2-2V5c0-1.1-.9-2-2-2zM9 17H7v-7h2v7zm4 0h-2V7h2v10zm4 0h-2v-4h2v4z\"/>\n",
              "    </g>\n",
              "</svg>\n",
              "      </button>\n",
              "\n",
              "<style>\n",
              "  .colab-df-quickchart {\n",
              "      --bg-color: #E8F0FE;\n",
              "      --fill-color: #1967D2;\n",
              "      --hover-bg-color: #E2EBFA;\n",
              "      --hover-fill-color: #174EA6;\n",
              "      --disabled-fill-color: #AAA;\n",
              "      --disabled-bg-color: #DDD;\n",
              "  }\n",
              "\n",
              "  [theme=dark] .colab-df-quickchart {\n",
              "      --bg-color: #3B4455;\n",
              "      --fill-color: #D2E3FC;\n",
              "      --hover-bg-color: #434B5C;\n",
              "      --hover-fill-color: #FFFFFF;\n",
              "      --disabled-bg-color: #3B4455;\n",
              "      --disabled-fill-color: #666;\n",
              "  }\n",
              "\n",
              "  .colab-df-quickchart {\n",
              "    background-color: var(--bg-color);\n",
              "    border: none;\n",
              "    border-radius: 50%;\n",
              "    cursor: pointer;\n",
              "    display: none;\n",
              "    fill: var(--fill-color);\n",
              "    height: 32px;\n",
              "    padding: 0;\n",
              "    width: 32px;\n",
              "  }\n",
              "\n",
              "  .colab-df-quickchart:hover {\n",
              "    background-color: var(--hover-bg-color);\n",
              "    box-shadow: 0 1px 2px rgba(60, 64, 67, 0.3), 0 1px 3px 1px rgba(60, 64, 67, 0.15);\n",
              "    fill: var(--button-hover-fill-color);\n",
              "  }\n",
              "\n",
              "  .colab-df-quickchart-complete:disabled,\n",
              "  .colab-df-quickchart-complete:disabled:hover {\n",
              "    background-color: var(--disabled-bg-color);\n",
              "    fill: var(--disabled-fill-color);\n",
              "    box-shadow: none;\n",
              "  }\n",
              "\n",
              "  .colab-df-spinner {\n",
              "    border: 2px solid var(--fill-color);\n",
              "    border-color: transparent;\n",
              "    border-bottom-color: var(--fill-color);\n",
              "    animation:\n",
              "      spin 1s steps(1) infinite;\n",
              "  }\n",
              "\n",
              "  @keyframes spin {\n",
              "    0% {\n",
              "      border-color: transparent;\n",
              "      border-bottom-color: var(--fill-color);\n",
              "      border-left-color: var(--fill-color);\n",
              "    }\n",
              "    20% {\n",
              "      border-color: transparent;\n",
              "      border-left-color: var(--fill-color);\n",
              "      border-top-color: var(--fill-color);\n",
              "    }\n",
              "    30% {\n",
              "      border-color: transparent;\n",
              "      border-left-color: var(--fill-color);\n",
              "      border-top-color: var(--fill-color);\n",
              "      border-right-color: var(--fill-color);\n",
              "    }\n",
              "    40% {\n",
              "      border-color: transparent;\n",
              "      border-right-color: var(--fill-color);\n",
              "      border-top-color: var(--fill-color);\n",
              "    }\n",
              "    60% {\n",
              "      border-color: transparent;\n",
              "      border-right-color: var(--fill-color);\n",
              "    }\n",
              "    80% {\n",
              "      border-color: transparent;\n",
              "      border-right-color: var(--fill-color);\n",
              "      border-bottom-color: var(--fill-color);\n",
              "    }\n",
              "    90% {\n",
              "      border-color: transparent;\n",
              "      border-bottom-color: var(--fill-color);\n",
              "    }\n",
              "  }\n",
              "</style>\n",
              "\n",
              "      <script>\n",
              "        async function quickchart(key) {\n",
              "          const quickchartButtonEl =\n",
              "            document.querySelector('#' + key + ' button');\n",
              "          quickchartButtonEl.disabled = true;  // To prevent multiple clicks.\n",
              "          quickchartButtonEl.classList.add('colab-df-spinner');\n",
              "          try {\n",
              "            const charts = await google.colab.kernel.invokeFunction(\n",
              "                'suggestCharts', [key], {});\n",
              "          } catch (error) {\n",
              "            console.error('Error during call to suggestCharts:', error);\n",
              "          }\n",
              "          quickchartButtonEl.classList.remove('colab-df-spinner');\n",
              "          quickchartButtonEl.classList.add('colab-df-quickchart-complete');\n",
              "        }\n",
              "        (() => {\n",
              "          let quickchartButtonEl =\n",
              "            document.querySelector('#df-80784433-2884-4d67-9fec-0d07c20ac90f button');\n",
              "          quickchartButtonEl.style.display =\n",
              "            google.colab.kernel.accessAllowed ? 'block' : 'none';\n",
              "        })();\n",
              "      </script>\n",
              "    </div>\n",
              "\n",
              "    </div>\n",
              "  </div>\n"
            ],
            "application/vnd.google.colaboratory.intrinsic+json": {
              "type": "dataframe",
              "variable_name": "df"
            }
          },
          "metadata": {},
          "execution_count": 79
        }
      ]
    },
    {
      "cell_type": "code",
      "source": [
        "# Separate features and target\n",
        "X = df.drop('target', axis=1).values\n",
        "y = df['target'].values"
      ],
      "metadata": {
        "id": "QaTP7rLch-yY"
      },
      "execution_count": 80,
      "outputs": []
    },
    {
      "cell_type": "code",
      "source": [
        "# Standardize features\n",
        "scaler = StandardScaler()\n",
        "X_scaled = scaler.fit_transform(X)"
      ],
      "metadata": {
        "id": "aLxYSp-0iDjO"
      },
      "execution_count": 81,
      "outputs": []
    },
    {
      "cell_type": "code",
      "source": [
        "# Convert back to DataFrame with original feature names\n",
        "X_scaled = pd.DataFrame(X_scaled, columns=df.columns[:-1])"
      ],
      "metadata": {
        "id": "bO7QSO2vreCc"
      },
      "execution_count": 82,
      "outputs": []
    },
    {
      "cell_type": "code",
      "source": [
        "# Train/test split\n",
        "X_train_full, X_test_full, y_train, y_test = train_test_split(X_scaled, y, test_size=0.2, random_state=42)"
      ],
      "metadata": {
        "id": "8pmuPFHkiGHS"
      },
      "execution_count": 83,
      "outputs": []
    },
    {
      "cell_type": "code",
      "source": [
        "type(X_train_full)"
      ],
      "metadata": {
        "colab": {
          "base_uri": "https://localhost:8080/",
          "height": 203
        },
        "id": "zTcOWUSTquwx",
        "outputId": "2220e554-a2df-478e-9026-d23cceb15adc"
      },
      "execution_count": 84,
      "outputs": [
        {
          "output_type": "execute_result",
          "data": {
            "text/plain": [
              "pandas.core.frame.DataFrame"
            ],
            "text/html": [
              "<div style=\"max-width:800px; border: 1px solid var(--colab-border-color);\"><style>\n",
              "      pre.function-repr-contents {\n",
              "        overflow-x: auto;\n",
              "        padding: 8px 12px;\n",
              "        max-height: 500px;\n",
              "      }\n",
              "\n",
              "      pre.function-repr-contents.function-repr-contents-collapsed {\n",
              "        cursor: pointer;\n",
              "        max-height: 100px;\n",
              "      }\n",
              "    </style>\n",
              "    <pre style=\"white-space: initial; background:\n",
              "         var(--colab-secondary-surface-color); padding: 8px 12px;\n",
              "         border-bottom: 1px solid var(--colab-border-color);\"><b>pandas.core.frame.DataFrame</b><br/>def __init__(data=None, index: Axes | None=None, columns: Axes | None=None, dtype: Dtype | None=None, copy: bool | None=None) -&gt; None</pre><pre class=\"function-repr-contents function-repr-contents-collapsed\" style=\"\"><a class=\"filepath\" style=\"display:none\" href=\"#\">/usr/local/lib/python3.11/dist-packages/pandas/core/frame.py</a>Two-dimensional, size-mutable, potentially heterogeneous tabular data.\n",
              "\n",
              "Data structure also contains labeled axes (rows and columns).\n",
              "Arithmetic operations align on both row and column labels. Can be\n",
              "thought of as a dict-like container for Series objects. The primary\n",
              "pandas data structure.\n",
              "\n",
              "Parameters\n",
              "----------\n",
              "data : ndarray (structured or homogeneous), Iterable, dict, or DataFrame\n",
              "    Dict can contain Series, arrays, constants, dataclass or list-like objects. If\n",
              "    data is a dict, column order follows insertion-order. If a dict contains Series\n",
              "    which have an index defined, it is aligned by its index. This alignment also\n",
              "    occurs if data is a Series or a DataFrame itself. Alignment is done on\n",
              "    Series/DataFrame inputs.\n",
              "\n",
              "    If data is a list of dicts, column order follows insertion-order.\n",
              "\n",
              "index : Index or array-like\n",
              "    Index to use for resulting frame. Will default to RangeIndex if\n",
              "    no indexing information part of input data and no index provided.\n",
              "columns : Index or array-like\n",
              "    Column labels to use for resulting frame when data does not have them,\n",
              "    defaulting to RangeIndex(0, 1, 2, ..., n). If data contains column labels,\n",
              "    will perform column selection instead.\n",
              "dtype : dtype, default None\n",
              "    Data type to force. Only a single dtype is allowed. If None, infer.\n",
              "copy : bool or None, default None\n",
              "    Copy data from inputs.\n",
              "    For dict data, the default of None behaves like ``copy=True``.  For DataFrame\n",
              "    or 2d ndarray input, the default of None behaves like ``copy=False``.\n",
              "    If data is a dict containing one or more Series (possibly of different dtypes),\n",
              "    ``copy=False`` will ensure that these inputs are not copied.\n",
              "\n",
              "    .. versionchanged:: 1.3.0\n",
              "\n",
              "See Also\n",
              "--------\n",
              "DataFrame.from_records : Constructor from tuples, also record arrays.\n",
              "DataFrame.from_dict : From dicts of Series, arrays, or dicts.\n",
              "read_csv : Read a comma-separated values (csv) file into DataFrame.\n",
              "read_table : Read general delimited file into DataFrame.\n",
              "read_clipboard : Read text from clipboard into DataFrame.\n",
              "\n",
              "Notes\n",
              "-----\n",
              "Please reference the :ref:`User Guide &lt;basics.dataframe&gt;` for more information.\n",
              "\n",
              "Examples\n",
              "--------\n",
              "Constructing DataFrame from a dictionary.\n",
              "\n",
              "&gt;&gt;&gt; d = {&#x27;col1&#x27;: [1, 2], &#x27;col2&#x27;: [3, 4]}\n",
              "&gt;&gt;&gt; df = pd.DataFrame(data=d)\n",
              "&gt;&gt;&gt; df\n",
              "   col1  col2\n",
              "0     1     3\n",
              "1     2     4\n",
              "\n",
              "Notice that the inferred dtype is int64.\n",
              "\n",
              "&gt;&gt;&gt; df.dtypes\n",
              "col1    int64\n",
              "col2    int64\n",
              "dtype: object\n",
              "\n",
              "To enforce a single dtype:\n",
              "\n",
              "&gt;&gt;&gt; df = pd.DataFrame(data=d, dtype=np.int8)\n",
              "&gt;&gt;&gt; df.dtypes\n",
              "col1    int8\n",
              "col2    int8\n",
              "dtype: object\n",
              "\n",
              "Constructing DataFrame from a dictionary including Series:\n",
              "\n",
              "&gt;&gt;&gt; d = {&#x27;col1&#x27;: [0, 1, 2, 3], &#x27;col2&#x27;: pd.Series([2, 3], index=[2, 3])}\n",
              "&gt;&gt;&gt; pd.DataFrame(data=d, index=[0, 1, 2, 3])\n",
              "   col1  col2\n",
              "0     0   NaN\n",
              "1     1   NaN\n",
              "2     2   2.0\n",
              "3     3   3.0\n",
              "\n",
              "Constructing DataFrame from numpy ndarray:\n",
              "\n",
              "&gt;&gt;&gt; df2 = pd.DataFrame(np.array([[1, 2, 3], [4, 5, 6], [7, 8, 9]]),\n",
              "...                    columns=[&#x27;a&#x27;, &#x27;b&#x27;, &#x27;c&#x27;])\n",
              "&gt;&gt;&gt; df2\n",
              "   a  b  c\n",
              "0  1  2  3\n",
              "1  4  5  6\n",
              "2  7  8  9\n",
              "\n",
              "Constructing DataFrame from a numpy ndarray that has labeled columns:\n",
              "\n",
              "&gt;&gt;&gt; data = np.array([(1, 2, 3), (4, 5, 6), (7, 8, 9)],\n",
              "...                 dtype=[(&quot;a&quot;, &quot;i4&quot;), (&quot;b&quot;, &quot;i4&quot;), (&quot;c&quot;, &quot;i4&quot;)])\n",
              "&gt;&gt;&gt; df3 = pd.DataFrame(data, columns=[&#x27;c&#x27;, &#x27;a&#x27;])\n",
              "...\n",
              "&gt;&gt;&gt; df3\n",
              "   c  a\n",
              "0  3  1\n",
              "1  6  4\n",
              "2  9  7\n",
              "\n",
              "Constructing DataFrame from dataclass:\n",
              "\n",
              "&gt;&gt;&gt; from dataclasses import make_dataclass\n",
              "&gt;&gt;&gt; Point = make_dataclass(&quot;Point&quot;, [(&quot;x&quot;, int), (&quot;y&quot;, int)])\n",
              "&gt;&gt;&gt; pd.DataFrame([Point(0, 0), Point(0, 3), Point(2, 3)])\n",
              "   x  y\n",
              "0  0  0\n",
              "1  0  3\n",
              "2  2  3\n",
              "\n",
              "Constructing DataFrame from Series/DataFrame:\n",
              "\n",
              "&gt;&gt;&gt; ser = pd.Series([1, 2, 3], index=[&quot;a&quot;, &quot;b&quot;, &quot;c&quot;])\n",
              "&gt;&gt;&gt; df = pd.DataFrame(data=ser, index=[&quot;a&quot;, &quot;c&quot;])\n",
              "&gt;&gt;&gt; df\n",
              "   0\n",
              "a  1\n",
              "c  3\n",
              "\n",
              "&gt;&gt;&gt; df1 = pd.DataFrame([1, 2, 3], index=[&quot;a&quot;, &quot;b&quot;, &quot;c&quot;], columns=[&quot;x&quot;])\n",
              "&gt;&gt;&gt; df2 = pd.DataFrame(data=df1, index=[&quot;a&quot;, &quot;c&quot;])\n",
              "&gt;&gt;&gt; df2\n",
              "   x\n",
              "a  1\n",
              "c  3</pre>\n",
              "      <script>\n",
              "      if (google.colab.kernel.accessAllowed && google.colab.files && google.colab.files.view) {\n",
              "        for (const element of document.querySelectorAll('.filepath')) {\n",
              "          element.style.display = 'block'\n",
              "          element.onclick = (event) => {\n",
              "            event.preventDefault();\n",
              "            event.stopPropagation();\n",
              "            google.colab.files.view(element.textContent, 509);\n",
              "          };\n",
              "        }\n",
              "      }\n",
              "      for (const element of document.querySelectorAll('.function-repr-contents')) {\n",
              "        element.onclick = (event) => {\n",
              "          event.preventDefault();\n",
              "          event.stopPropagation();\n",
              "          element.classList.toggle('function-repr-contents-collapsed');\n",
              "        };\n",
              "      }\n",
              "      </script>\n",
              "      </div>"
            ]
          },
          "metadata": {},
          "execution_count": 84
        }
      ]
    },
    {
      "cell_type": "markdown",
      "source": [
        "# Train model on all features"
      ],
      "metadata": {
        "id": "jp0QrC3aiSyj"
      }
    },
    {
      "cell_type": "code",
      "source": [
        "from sklearn.ensemble import RandomForestClassifier\n",
        "from sklearn.metrics import accuracy_score, f1_score, precision_score, recall_score, confusion_matrix"
      ],
      "metadata": {
        "id": "dp1optbwiIb9"
      },
      "execution_count": 109,
      "outputs": []
    },
    {
      "cell_type": "code",
      "source": [
        "baseline_model = RandomForestClassifier(random_state=42)\n",
        "start_time = time.time()\n",
        "baseline_model.fit(X_train_full, y_train)\n",
        "baseline_train_time = time.time() - start_time\n",
        "y_pred_baseline = baseline_model.predict(X_test_full)"
      ],
      "metadata": {
        "id": "ZdRFEHVKiZsG"
      },
      "execution_count": 86,
      "outputs": []
    },
    {
      "cell_type": "markdown",
      "source": [
        "# Apply PSO to select optimal features\n"
      ],
      "metadata": {
        "id": "H94t8cG2i3Um"
      }
    },
    {
      "cell_type": "markdown",
      "source": [
        "## PSO"
      ],
      "metadata": {
        "id": "kI9TfQh8ofam"
      }
    },
    {
      "cell_type": "markdown",
      "source": [
        "**Qu’est-ce que PSO ?**\n",
        "\n",
        "PSO (Particle Swarm Optimization) est un algorithme d’optimisation inspiré du comportement collectif des oiseaux ou des poissons lorsqu’ils cherchent de la nourriture.\n",
        "\n",
        "Chaque particule représente une solution candidate dans l’espace de recherche (un sous-ensemble de caractéristiques dans notre cas).\n",
        "\n",
        "Les particules se déplacent dans l’espace de recherche en étant influencées par :\n",
        "\n",
        "* Leur propre meilleur souvenir personnel (meilleure position atteinte),\n",
        "\n",
        "* Le meilleur souvenir du groupe (meilleure position trouvée par tout l’essaim)."
      ],
      "metadata": {
        "id": "r37UARUHojYn"
      }
    },
    {
      "cell_type": "markdown",
      "source": [
        "**Principe de fonctionnement**\n",
        "\n",
        "Chaque particule a :\n",
        "\n",
        "* Une position (vecteur binaire pour la sélection de caractéristiques, ex: [1, 0, 1, 0] = sélectionner les features 0 et 2),\n",
        "\n",
        "* Une vitesse (qui détermine la probabilité de changer de position),\n",
        "\n",
        "* Une fonction de fitness qui évalue la qualité de la solution (ex: accuracy d’un modèle entraîné sur les features sélectionnées).\n",
        "\n",
        "À chaque itération :\n",
        "1. La fitness de chaque particule est évaluée.\n",
        "\n",
        "2. On met à jour :\n",
        "\n",
        "* Sa meilleure position personnelle (si la nouvelle fitness est meilleure),\n",
        "\n",
        "* La meilleure position globale (parmi toutes les particules).\n",
        "\n",
        "3. La vitesse et la position de chaque particule sont mises à jour en utilisant une formule mathématique.\n",
        "\n"
      ],
      "metadata": {
        "id": "eywBUZ5eouLI"
      }
    },
    {
      "cell_type": "markdown",
      "source": [
        "**Hyperparametres de PSO**\n",
        "\n",
        "* c1 (Cognitive coefficient)\n",
        "\n",
        "  Role/influence: Apprentissage personnel\n",
        "\n",
        "  Détails: Contrôle dans quelle mesure chaque particule est attirée par sa meilleure solution individuelle déjà trouvée. Un c1 plus élevé encourage une exploration individuelle.\n",
        "\n",
        "* c2\t(Social coefficient)\n",
        "\n",
        "\tRole/influence: Apprentissage collectif\n",
        "  \n",
        "  Détails: Influence de la meilleure solution globale (trouvée par le groupe). Un c2 élevé encourage les particules à se rapprocher de cette solution.\n",
        "\n",
        "* w\t(Inertia weight)\n",
        "\n",
        "\tRole/influence: Inertie du mouvement\n",
        "\n",
        "  Détails:\tDétermine à quel point la vitesse précédente influence le mouvement actuel. Un w élevé favorise l'exploration, un w plus bas favorise l'exploitation (raffinage).\n",
        "\n",
        "* k\t(Number of neighbors)\n",
        "\n",
        "  Role/influence: \tTaille du voisinage (PSO local)\n",
        "\n",
        "  Détails: Spécifie le nombre de particules voisines à prendre en compte pour décider du mouvement (dans les variantes où on ne prend pas toute la population).\n",
        "\n",
        "* p\t(Minkowski p-norm)\n",
        "\n",
        "\tRole/influence: Distance utilisée pour définir les voisins\n",
        "\n",
        "  Détails: p=2 correspond à la distance euclidienne classique. Peut être ajusté pour d'autres types de distance si nécessaire.\n"
      ],
      "metadata": {
        "id": "eM13nv6IpOA_"
      }
    },
    {
      "cell_type": "markdown",
      "source": [
        "## Code"
      ],
      "metadata": {
        "id": "OueZi1nZq7wC"
      }
    },
    {
      "cell_type": "code",
      "source": [
        "!pip install pyswarms"
      ],
      "metadata": {
        "colab": {
          "base_uri": "https://localhost:8080/"
        },
        "id": "RsP-y8YPi8s7",
        "outputId": "6e5bcb23-e5b3-47cb-8737-230cb8a8eed4"
      },
      "execution_count": 87,
      "outputs": [
        {
          "output_type": "stream",
          "name": "stdout",
          "text": [
            "Requirement already satisfied: pyswarms in /usr/local/lib/python3.11/dist-packages (1.3.0)\n",
            "Requirement already satisfied: scipy in /usr/local/lib/python3.11/dist-packages (from pyswarms) (1.15.3)\n",
            "Requirement already satisfied: numpy in /usr/local/lib/python3.11/dist-packages (from pyswarms) (2.0.2)\n",
            "Requirement already satisfied: matplotlib>=1.3.1 in /usr/local/lib/python3.11/dist-packages (from pyswarms) (3.10.0)\n",
            "Requirement already satisfied: attrs in /usr/local/lib/python3.11/dist-packages (from pyswarms) (25.3.0)\n",
            "Requirement already satisfied: tqdm in /usr/local/lib/python3.11/dist-packages (from pyswarms) (4.67.1)\n",
            "Requirement already satisfied: future in /usr/local/lib/python3.11/dist-packages (from pyswarms) (1.0.0)\n",
            "Requirement already satisfied: pyyaml in /usr/local/lib/python3.11/dist-packages (from pyswarms) (6.0.2)\n",
            "Requirement already satisfied: contourpy>=1.0.1 in /usr/local/lib/python3.11/dist-packages (from matplotlib>=1.3.1->pyswarms) (1.3.2)\n",
            "Requirement already satisfied: cycler>=0.10 in /usr/local/lib/python3.11/dist-packages (from matplotlib>=1.3.1->pyswarms) (0.12.1)\n",
            "Requirement already satisfied: fonttools>=4.22.0 in /usr/local/lib/python3.11/dist-packages (from matplotlib>=1.3.1->pyswarms) (4.58.0)\n",
            "Requirement already satisfied: kiwisolver>=1.3.1 in /usr/local/lib/python3.11/dist-packages (from matplotlib>=1.3.1->pyswarms) (1.4.8)\n",
            "Requirement already satisfied: packaging>=20.0 in /usr/local/lib/python3.11/dist-packages (from matplotlib>=1.3.1->pyswarms) (24.2)\n",
            "Requirement already satisfied: pillow>=8 in /usr/local/lib/python3.11/dist-packages (from matplotlib>=1.3.1->pyswarms) (11.2.1)\n",
            "Requirement already satisfied: pyparsing>=2.3.1 in /usr/local/lib/python3.11/dist-packages (from matplotlib>=1.3.1->pyswarms) (3.2.3)\n",
            "Requirement already satisfied: python-dateutil>=2.7 in /usr/local/lib/python3.11/dist-packages (from matplotlib>=1.3.1->pyswarms) (2.9.0.post0)\n",
            "Requirement already satisfied: six>=1.5 in /usr/local/lib/python3.11/dist-packages (from python-dateutil>=2.7->matplotlib>=1.3.1->pyswarms) (1.17.0)\n"
          ]
        }
      ]
    },
    {
      "cell_type": "code",
      "source": [
        "import pyswarms as ps"
      ],
      "metadata": {
        "id": "3FmBSeTqixlA"
      },
      "execution_count": 88,
      "outputs": []
    },
    {
      "cell_type": "code",
      "source": [
        "# Define fitness function\n",
        "def fitness_function(particles, alpha=0.9):\n",
        "    scores = []\n",
        "    for particle in particles:\n",
        "      #mask : un tableau booléen indiquant quelles features sont sélectionnées (valeurs supérieures à 0.5 dans la particule → True).\n",
        "        mask = particle > 0.5\n",
        "\n",
        "        #Si aucune feature n’est sélectionnée, on donne un score pénalisant élevé (1.0) et on passe à la particule suivante. Cela évite d’entraîner un modèle vide.\n",
        "        if np.count_nonzero(mask) == 0:\n",
        "            scores.append(1.0)\n",
        "            continue\n",
        "\n",
        "        #Sélection des colonnes (features) activées pour entraîner et tester le modèle uniquement sur les colonnes sélectionnées.\n",
        "        X_train_sel = X_train_full.iloc[:, mask]\n",
        "        X_test_sel = X_test_full.iloc[:, mask]\n",
        "\n",
        "        #Entraînement d’un modèle de forêt aléatoire sur les features sélectionnées.\n",
        "        model = RandomForestClassifier(random_state=42)\n",
        "        model.fit(X_train_sel, y_train)\n",
        "\n",
        "        #Prédiction sur les données de test avec ces mêmes features.\n",
        "        preds = model.predict(X_test_sel)\n",
        "\n",
        "        #Calcul de l’erreur de classification (1 - accuracy).\n",
        "        error = 1 - accuracy_score(y_test, preds)\n",
        "\n",
        "        #Score de fitness :\n",
        "        score = alpha * error + (1 - alpha) * (np.sum(mask) / X.shape[1])\n",
        "        #On minimise cette fitness : meilleure performance + moins de features = meilleure solution.\n",
        "\n",
        "        scores.append(score)\n",
        "    return np.array(scores)"
      ],
      "metadata": {
        "id": "yemDwA5ojA0J"
      },
      "execution_count": 89,
      "outputs": []
    },
    {
      "cell_type": "markdown",
      "source": [
        "**NB**\n",
        "\n",
        "alpha : paramètre de pondération entre la performance du modèle et le nombre de caractéristiques utilisées. (valeur par défaut 0.9 → priorité à la performance)"
      ],
      "metadata": {
        "id": "Z2u6qy90roUY"
      }
    },
    {
      "cell_type": "code",
      "source": [
        "# PSO settings\n",
        "dimensions = X.shape[1]\n",
        "options = {\n",
        "    'c1': 0.5,\n",
        "    'c2': 0.3,\n",
        "    'w': 0.9,\n",
        "    'k': 5,       # number of neighbors\n",
        "    'p': 2        # Minkowski p-norm\n",
        "}\n",
        "optimizer = ps.discrete.BinaryPSO(n_particles=10, dimensions=dimensions, options=options)"
      ],
      "metadata": {
        "id": "jutxjmT-jGp3"
      },
      "execution_count": 90,
      "outputs": []
    },
    {
      "cell_type": "code",
      "source": [
        "# Run optimization\n",
        "cost, pos = optimizer.optimize(fitness_function, iters=10)\n",
        "selected_features_default = np.where(pos > 0.5)[0]"
      ],
      "metadata": {
        "colab": {
          "base_uri": "https://localhost:8080/"
        },
        "id": "IBFOdzgejKCr",
        "outputId": "16558f7a-746c-49ef-b78e-456b794a7d84"
      },
      "execution_count": 91,
      "outputs": [
        {
          "output_type": "stream",
          "name": "stderr",
          "text": [
            "2025-05-25 18:22:04,460 - pyswarms.discrete.binary - INFO - Optimize for 10 iters with {'c1': 0.5, 'c2': 0.3, 'w': 0.9, 'k': 5, 'p': 2}\n",
            "pyswarms.discrete.binary: 100%|██████████|10/10, best_cost=0.41\n",
            "2025-05-25 18:23:14,872 - pyswarms.discrete.binary - INFO - Optimization finished | best cost: 0.4100571848705171, best pos: [1 1 0 ... 0 1 1]\n"
          ]
        }
      ]
    },
    {
      "cell_type": "markdown",
      "source": [
        "#Train model on PSO-selected features"
      ],
      "metadata": {
        "id": "RPqcF9WYjTSD"
      }
    },
    {
      "cell_type": "code",
      "source": [
        "# Reduce feature set\n",
        "X_train_pso = X_train_full.iloc[:, selected_features_default]\n",
        "X_test_pso = X_test_full.iloc[:, selected_features_default]"
      ],
      "metadata": {
        "id": "zA6YkRJXjWBs"
      },
      "execution_count": 92,
      "outputs": []
    },
    {
      "cell_type": "code",
      "source": [
        "pso_model = RandomForestClassifier(random_state=42)\n",
        "start_time = time.time()\n",
        "pso_model.fit(X_train_pso, y_train)\n",
        "pso_train_time_default = time.time() - start_time\n",
        "y_pred_pso_default = pso_model.predict(X_test_pso)"
      ],
      "metadata": {
        "id": "R6oS8eGSjZqC"
      },
      "execution_count": 93,
      "outputs": []
    },
    {
      "cell_type": "markdown",
      "source": [
        "# Perform Grid Search to Optimize PSO Hyperparameters"
      ],
      "metadata": {
        "id": "IZacy5tZpKSK"
      }
    },
    {
      "cell_type": "code",
      "source": [
        "search_space = [\n",
        "    {'c1': 0.3, 'c2': 0.3, 'w': 0.5, 'k': 5, 'p': 2},\n",
        "    {'c1': 0.5, 'c2': 0.3, 'w': 0.9, 'k': 5, 'p': 2},\n",
        "    {'c1': 0.8, 'c2': 0.8, 'w': 0.5, 'k': 5, 'p': 2},\n",
        "]\n"
      ],
      "metadata": {
        "id": "TSlcK832pNGl"
      },
      "execution_count": 94,
      "outputs": []
    },
    {
      "cell_type": "code",
      "source": [
        "best_score = float(\"inf\")\n",
        "best_pos = None\n",
        "best_opt = None\n",
        "\n",
        "for options in search_space:\n",
        "    optimizer = ps.discrete.BinaryPSO(n_particles=10, dimensions=dimensions, options=options)\n",
        "    score, position = optimizer.optimize(fitness_function, iters=10, verbose=False)\n",
        "    if score < best_score:\n",
        "        best_score = score\n",
        "        best_pos = position\n",
        "        best_opt = options"
      ],
      "metadata": {
        "id": "u9aIgyPipP7S"
      },
      "execution_count": 95,
      "outputs": []
    },
    {
      "cell_type": "code",
      "source": [
        "selected_features_optimized = np.where(best_pos > 0.5)[0]"
      ],
      "metadata": {
        "id": "-B_6dJdOpSPO"
      },
      "execution_count": 96,
      "outputs": []
    },
    {
      "cell_type": "markdown",
      "source": [
        "# Save the Best Feature Subset and Train on Selected Features"
      ],
      "metadata": {
        "id": "w4l9mF9IpWnH"
      }
    },
    {
      "cell_type": "code",
      "source": [
        "# Use the feature names from the original DataFrame (excluding the target)\n",
        "feature_names = df.columns[:-1]\n",
        "\n",
        "# Get the names of the selected features\n",
        "selected_feature_names = feature_names[selected_features_optimized]\n",
        "\n",
        "# Save to CSV\n",
        "pd.DataFrame(selected_feature_names).to_csv(\"best_features_pso.csv\", index=False, header=False)"
      ],
      "metadata": {
        "id": "K_ig1GeQtuws"
      },
      "execution_count": 98,
      "outputs": []
    },
    {
      "cell_type": "code",
      "source": [
        "# Train on optimized PSO-selected features\n",
        "X_train_opt = X_train_full.iloc[:, selected_features_optimized]\n",
        "X_test_opt = X_test_full.iloc[:, selected_features_optimized]"
      ],
      "metadata": {
        "id": "iZDccQt_pbKm"
      },
      "execution_count": 99,
      "outputs": []
    },
    {
      "cell_type": "code",
      "source": [
        "optimized_model = RandomForestClassifier(random_state=42)\n",
        "start_time = time.time()\n",
        "optimized_model.fit(X_train_opt, y_train)\n",
        "pso_train_time_opt = time.time() - start_time\n",
        "y_pred_pso_opt = optimized_model.predict(X_test_opt)"
      ],
      "metadata": {
        "id": "hTVv0CEKpiF8"
      },
      "execution_count": 100,
      "outputs": []
    },
    {
      "cell_type": "markdown",
      "source": [
        "# Evaluate all Scenarios"
      ],
      "metadata": {
        "id": "RdfnKxIyjkOk"
      }
    },
    {
      "cell_type": "code",
      "source": [
        "from sklearn.metrics import accuracy_score, precision_score, recall_score, f1_score, confusion_matrix"
      ],
      "metadata": {
        "id": "JuoqLQrvpr6L"
      },
      "execution_count": 101,
      "outputs": []
    },
    {
      "cell_type": "code",
      "source": [
        "def evaluate_model(name, y_true, y_pred, train_time, n_features):\n",
        "    print(f\"\\n Evaluation: {name}\")\n",
        "    print(f\"Accuracy       : {accuracy_score(y_true, y_pred):.4f}\")\n",
        "    print(f\"Precision      : {precision_score(y_true, y_pred, average='macro'):.4f}\")\n",
        "    print(f\"Recall         : {recall_score(y_true, y_pred, average='macro'):.4f}\")\n",
        "    print(f\"F1 Score       : {f1_score(y_true, y_pred, average='macro'):.4f}\")\n",
        "    print(f\"Training Time  : {train_time:.4f} seconds\")\n",
        "    print(f\"#Features Used : {n_features}\")\n",
        "    print(f\"Confusion Matrix:\\n{confusion_matrix(y_true, y_pred)}\")"
      ],
      "metadata": {
        "id": "h84zaTTIjny0"
      },
      "execution_count": 104,
      "outputs": []
    },
    {
      "cell_type": "code",
      "source": [
        "# Baseline (all features)\n",
        "evaluate_model(\"Baseline (All Features)\", y_test, y_pred_baseline, baseline_train_time, X.shape[1])"
      ],
      "metadata": {
        "colab": {
          "base_uri": "https://localhost:8080/"
        },
        "id": "5ekFgTCqjtXn",
        "outputId": "9a938ce8-3f5f-45a1-e151-bd17003d5f5c"
      },
      "execution_count": 105,
      "outputs": [
        {
          "output_type": "stream",
          "name": "stdout",
          "text": [
            "\n",
            " Evaluation: Baseline (All Features)\n",
            "Accuracy       : 0.4500\n",
            "Precision      : 0.5119\n",
            "Recall         : 0.5110\n",
            "F1 Score       : 0.4486\n",
            "Training Time  : 0.8610 seconds\n",
            "#Features Used : 24482\n",
            "Confusion Matrix:\n",
            "[[5 2]\n",
            " [9 4]]\n"
          ]
        }
      ]
    },
    {
      "cell_type": "code",
      "source": [
        "# PSO Default\n",
        "evaluate_model(\"PSO Default\", y_test, y_pred_pso_default, pso_train_time_default, len(selected_features_default))"
      ],
      "metadata": {
        "colab": {
          "base_uri": "https://localhost:8080/"
        },
        "id": "93K1xfHijvNn",
        "outputId": "f558c879-99e8-488f-fe86-d5e0edddc413"
      },
      "execution_count": 106,
      "outputs": [
        {
          "output_type": "stream",
          "name": "stdout",
          "text": [
            "\n",
            " Evaluation: PSO Default\n",
            "Accuracy       : 0.6000\n",
            "Precision      : 0.6593\n",
            "Recall         : 0.6593\n",
            "F1 Score       : 0.6000\n",
            "Training Time  : 0.5068 seconds\n",
            "#Features Used : 12255\n",
            "Confusion Matrix:\n",
            "[[6 1]\n",
            " [7 6]]\n"
          ]
        }
      ]
    },
    {
      "cell_type": "code",
      "source": [
        "# PSO Optimized\n",
        "evaluate_model(\"PSO Optimized\", y_test, y_pred_pso_opt, pso_train_time_opt, len(selected_features_optimized))"
      ],
      "metadata": {
        "colab": {
          "base_uri": "https://localhost:8080/"
        },
        "id": "AlymCFahkiLi",
        "outputId": "f7e77ebb-50aa-4fea-8023-485c174207cc"
      },
      "execution_count": 107,
      "outputs": [
        {
          "output_type": "stream",
          "name": "stdout",
          "text": [
            "\n",
            " Evaluation: PSO Optimized\n",
            "Accuracy       : 0.6500\n",
            "Precision      : 0.6875\n",
            "Recall         : 0.6978\n",
            "F1 Score       : 0.6491\n",
            "Training Time  : 0.4495 seconds\n",
            "#Features Used : 12353\n",
            "Confusion Matrix:\n",
            "[[6 1]\n",
            " [6 7]]\n"
          ]
        }
      ]
    },
    {
      "cell_type": "markdown",
      "source": [
        "# Summary table"
      ],
      "metadata": {
        "id": "lBBDSr4tqEn6"
      }
    },
    {
      "cell_type": "code",
      "source": [
        "summary_df = pd.DataFrame({\n",
        "    \"Model\": [\"Baseline\", \"PSO Default\", \"PSO Optimized\"],\n",
        "    \"Train Time (s)\": [baseline_train_time, pso_train_time_default, pso_train_time_opt],\n",
        "    \"#Features\": [X.shape[1], len(selected_features_default), len(selected_features_optimized)]\n",
        "})\n",
        "\n",
        "summary_df"
      ],
      "metadata": {
        "colab": {
          "base_uri": "https://localhost:8080/",
          "height": 143
        },
        "id": "SMZmMM7ZqHHh",
        "outputId": "c32860f0-21dd-427e-8023-7981ee1aea15"
      },
      "execution_count": 108,
      "outputs": [
        {
          "output_type": "execute_result",
          "data": {
            "text/plain": [
              "           Model  Train Time (s)  #Features\n",
              "0       Baseline        0.860964      24482\n",
              "1    PSO Default        0.506788      12255\n",
              "2  PSO Optimized        0.449480      12353"
            ],
            "text/html": [
              "\n",
              "  <div id=\"df-7cded001-0793-4726-9f0f-6af084cdb451\" class=\"colab-df-container\">\n",
              "    <div>\n",
              "<style scoped>\n",
              "    .dataframe tbody tr th:only-of-type {\n",
              "        vertical-align: middle;\n",
              "    }\n",
              "\n",
              "    .dataframe tbody tr th {\n",
              "        vertical-align: top;\n",
              "    }\n",
              "\n",
              "    .dataframe thead th {\n",
              "        text-align: right;\n",
              "    }\n",
              "</style>\n",
              "<table border=\"1\" class=\"dataframe\">\n",
              "  <thead>\n",
              "    <tr style=\"text-align: right;\">\n",
              "      <th></th>\n",
              "      <th>Model</th>\n",
              "      <th>Train Time (s)</th>\n",
              "      <th>#Features</th>\n",
              "    </tr>\n",
              "  </thead>\n",
              "  <tbody>\n",
              "    <tr>\n",
              "      <th>0</th>\n",
              "      <td>Baseline</td>\n",
              "      <td>0.860964</td>\n",
              "      <td>24482</td>\n",
              "    </tr>\n",
              "    <tr>\n",
              "      <th>1</th>\n",
              "      <td>PSO Default</td>\n",
              "      <td>0.506788</td>\n",
              "      <td>12255</td>\n",
              "    </tr>\n",
              "    <tr>\n",
              "      <th>2</th>\n",
              "      <td>PSO Optimized</td>\n",
              "      <td>0.449480</td>\n",
              "      <td>12353</td>\n",
              "    </tr>\n",
              "  </tbody>\n",
              "</table>\n",
              "</div>\n",
              "    <div class=\"colab-df-buttons\">\n",
              "\n",
              "  <div class=\"colab-df-container\">\n",
              "    <button class=\"colab-df-convert\" onclick=\"convertToInteractive('df-7cded001-0793-4726-9f0f-6af084cdb451')\"\n",
              "            title=\"Convert this dataframe to an interactive table.\"\n",
              "            style=\"display:none;\">\n",
              "\n",
              "  <svg xmlns=\"http://www.w3.org/2000/svg\" height=\"24px\" viewBox=\"0 -960 960 960\">\n",
              "    <path d=\"M120-120v-720h720v720H120Zm60-500h600v-160H180v160Zm220 220h160v-160H400v160Zm0 220h160v-160H400v160ZM180-400h160v-160H180v160Zm440 0h160v-160H620v160ZM180-180h160v-160H180v160Zm440 0h160v-160H620v160Z\"/>\n",
              "  </svg>\n",
              "    </button>\n",
              "\n",
              "  <style>\n",
              "    .colab-df-container {\n",
              "      display:flex;\n",
              "      gap: 12px;\n",
              "    }\n",
              "\n",
              "    .colab-df-convert {\n",
              "      background-color: #E8F0FE;\n",
              "      border: none;\n",
              "      border-radius: 50%;\n",
              "      cursor: pointer;\n",
              "      display: none;\n",
              "      fill: #1967D2;\n",
              "      height: 32px;\n",
              "      padding: 0 0 0 0;\n",
              "      width: 32px;\n",
              "    }\n",
              "\n",
              "    .colab-df-convert:hover {\n",
              "      background-color: #E2EBFA;\n",
              "      box-shadow: 0px 1px 2px rgba(60, 64, 67, 0.3), 0px 1px 3px 1px rgba(60, 64, 67, 0.15);\n",
              "      fill: #174EA6;\n",
              "    }\n",
              "\n",
              "    .colab-df-buttons div {\n",
              "      margin-bottom: 4px;\n",
              "    }\n",
              "\n",
              "    [theme=dark] .colab-df-convert {\n",
              "      background-color: #3B4455;\n",
              "      fill: #D2E3FC;\n",
              "    }\n",
              "\n",
              "    [theme=dark] .colab-df-convert:hover {\n",
              "      background-color: #434B5C;\n",
              "      box-shadow: 0px 1px 3px 1px rgba(0, 0, 0, 0.15);\n",
              "      filter: drop-shadow(0px 1px 2px rgba(0, 0, 0, 0.3));\n",
              "      fill: #FFFFFF;\n",
              "    }\n",
              "  </style>\n",
              "\n",
              "    <script>\n",
              "      const buttonEl =\n",
              "        document.querySelector('#df-7cded001-0793-4726-9f0f-6af084cdb451 button.colab-df-convert');\n",
              "      buttonEl.style.display =\n",
              "        google.colab.kernel.accessAllowed ? 'block' : 'none';\n",
              "\n",
              "      async function convertToInteractive(key) {\n",
              "        const element = document.querySelector('#df-7cded001-0793-4726-9f0f-6af084cdb451');\n",
              "        const dataTable =\n",
              "          await google.colab.kernel.invokeFunction('convertToInteractive',\n",
              "                                                    [key], {});\n",
              "        if (!dataTable) return;\n",
              "\n",
              "        const docLinkHtml = 'Like what you see? Visit the ' +\n",
              "          '<a target=\"_blank\" href=https://colab.research.google.com/notebooks/data_table.ipynb>data table notebook</a>'\n",
              "          + ' to learn more about interactive tables.';\n",
              "        element.innerHTML = '';\n",
              "        dataTable['output_type'] = 'display_data';\n",
              "        await google.colab.output.renderOutput(dataTable, element);\n",
              "        const docLink = document.createElement('div');\n",
              "        docLink.innerHTML = docLinkHtml;\n",
              "        element.appendChild(docLink);\n",
              "      }\n",
              "    </script>\n",
              "  </div>\n",
              "\n",
              "\n",
              "    <div id=\"df-0ebba00d-02cb-4f4d-adf4-67eca7a858ba\">\n",
              "      <button class=\"colab-df-quickchart\" onclick=\"quickchart('df-0ebba00d-02cb-4f4d-adf4-67eca7a858ba')\"\n",
              "                title=\"Suggest charts\"\n",
              "                style=\"display:none;\">\n",
              "\n",
              "<svg xmlns=\"http://www.w3.org/2000/svg\" height=\"24px\"viewBox=\"0 0 24 24\"\n",
              "     width=\"24px\">\n",
              "    <g>\n",
              "        <path d=\"M19 3H5c-1.1 0-2 .9-2 2v14c0 1.1.9 2 2 2h14c1.1 0 2-.9 2-2V5c0-1.1-.9-2-2-2zM9 17H7v-7h2v7zm4 0h-2V7h2v10zm4 0h-2v-4h2v4z\"/>\n",
              "    </g>\n",
              "</svg>\n",
              "      </button>\n",
              "\n",
              "<style>\n",
              "  .colab-df-quickchart {\n",
              "      --bg-color: #E8F0FE;\n",
              "      --fill-color: #1967D2;\n",
              "      --hover-bg-color: #E2EBFA;\n",
              "      --hover-fill-color: #174EA6;\n",
              "      --disabled-fill-color: #AAA;\n",
              "      --disabled-bg-color: #DDD;\n",
              "  }\n",
              "\n",
              "  [theme=dark] .colab-df-quickchart {\n",
              "      --bg-color: #3B4455;\n",
              "      --fill-color: #D2E3FC;\n",
              "      --hover-bg-color: #434B5C;\n",
              "      --hover-fill-color: #FFFFFF;\n",
              "      --disabled-bg-color: #3B4455;\n",
              "      --disabled-fill-color: #666;\n",
              "  }\n",
              "\n",
              "  .colab-df-quickchart {\n",
              "    background-color: var(--bg-color);\n",
              "    border: none;\n",
              "    border-radius: 50%;\n",
              "    cursor: pointer;\n",
              "    display: none;\n",
              "    fill: var(--fill-color);\n",
              "    height: 32px;\n",
              "    padding: 0;\n",
              "    width: 32px;\n",
              "  }\n",
              "\n",
              "  .colab-df-quickchart:hover {\n",
              "    background-color: var(--hover-bg-color);\n",
              "    box-shadow: 0 1px 2px rgba(60, 64, 67, 0.3), 0 1px 3px 1px rgba(60, 64, 67, 0.15);\n",
              "    fill: var(--button-hover-fill-color);\n",
              "  }\n",
              "\n",
              "  .colab-df-quickchart-complete:disabled,\n",
              "  .colab-df-quickchart-complete:disabled:hover {\n",
              "    background-color: var(--disabled-bg-color);\n",
              "    fill: var(--disabled-fill-color);\n",
              "    box-shadow: none;\n",
              "  }\n",
              "\n",
              "  .colab-df-spinner {\n",
              "    border: 2px solid var(--fill-color);\n",
              "    border-color: transparent;\n",
              "    border-bottom-color: var(--fill-color);\n",
              "    animation:\n",
              "      spin 1s steps(1) infinite;\n",
              "  }\n",
              "\n",
              "  @keyframes spin {\n",
              "    0% {\n",
              "      border-color: transparent;\n",
              "      border-bottom-color: var(--fill-color);\n",
              "      border-left-color: var(--fill-color);\n",
              "    }\n",
              "    20% {\n",
              "      border-color: transparent;\n",
              "      border-left-color: var(--fill-color);\n",
              "      border-top-color: var(--fill-color);\n",
              "    }\n",
              "    30% {\n",
              "      border-color: transparent;\n",
              "      border-left-color: var(--fill-color);\n",
              "      border-top-color: var(--fill-color);\n",
              "      border-right-color: var(--fill-color);\n",
              "    }\n",
              "    40% {\n",
              "      border-color: transparent;\n",
              "      border-right-color: var(--fill-color);\n",
              "      border-top-color: var(--fill-color);\n",
              "    }\n",
              "    60% {\n",
              "      border-color: transparent;\n",
              "      border-right-color: var(--fill-color);\n",
              "    }\n",
              "    80% {\n",
              "      border-color: transparent;\n",
              "      border-right-color: var(--fill-color);\n",
              "      border-bottom-color: var(--fill-color);\n",
              "    }\n",
              "    90% {\n",
              "      border-color: transparent;\n",
              "      border-bottom-color: var(--fill-color);\n",
              "    }\n",
              "  }\n",
              "</style>\n",
              "\n",
              "      <script>\n",
              "        async function quickchart(key) {\n",
              "          const quickchartButtonEl =\n",
              "            document.querySelector('#' + key + ' button');\n",
              "          quickchartButtonEl.disabled = true;  // To prevent multiple clicks.\n",
              "          quickchartButtonEl.classList.add('colab-df-spinner');\n",
              "          try {\n",
              "            const charts = await google.colab.kernel.invokeFunction(\n",
              "                'suggestCharts', [key], {});\n",
              "          } catch (error) {\n",
              "            console.error('Error during call to suggestCharts:', error);\n",
              "          }\n",
              "          quickchartButtonEl.classList.remove('colab-df-spinner');\n",
              "          quickchartButtonEl.classList.add('colab-df-quickchart-complete');\n",
              "        }\n",
              "        (() => {\n",
              "          let quickchartButtonEl =\n",
              "            document.querySelector('#df-0ebba00d-02cb-4f4d-adf4-67eca7a858ba button');\n",
              "          quickchartButtonEl.style.display =\n",
              "            google.colab.kernel.accessAllowed ? 'block' : 'none';\n",
              "        })();\n",
              "      </script>\n",
              "    </div>\n",
              "\n",
              "  <div id=\"id_007da82c-9640-47c1-8777-14843b8560a3\">\n",
              "    <style>\n",
              "      .colab-df-generate {\n",
              "        background-color: #E8F0FE;\n",
              "        border: none;\n",
              "        border-radius: 50%;\n",
              "        cursor: pointer;\n",
              "        display: none;\n",
              "        fill: #1967D2;\n",
              "        height: 32px;\n",
              "        padding: 0 0 0 0;\n",
              "        width: 32px;\n",
              "      }\n",
              "\n",
              "      .colab-df-generate:hover {\n",
              "        background-color: #E2EBFA;\n",
              "        box-shadow: 0px 1px 2px rgba(60, 64, 67, 0.3), 0px 1px 3px 1px rgba(60, 64, 67, 0.15);\n",
              "        fill: #174EA6;\n",
              "      }\n",
              "\n",
              "      [theme=dark] .colab-df-generate {\n",
              "        background-color: #3B4455;\n",
              "        fill: #D2E3FC;\n",
              "      }\n",
              "\n",
              "      [theme=dark] .colab-df-generate:hover {\n",
              "        background-color: #434B5C;\n",
              "        box-shadow: 0px 1px 3px 1px rgba(0, 0, 0, 0.15);\n",
              "        filter: drop-shadow(0px 1px 2px rgba(0, 0, 0, 0.3));\n",
              "        fill: #FFFFFF;\n",
              "      }\n",
              "    </style>\n",
              "    <button class=\"colab-df-generate\" onclick=\"generateWithVariable('summary_df')\"\n",
              "            title=\"Generate code using this dataframe.\"\n",
              "            style=\"display:none;\">\n",
              "\n",
              "  <svg xmlns=\"http://www.w3.org/2000/svg\" height=\"24px\"viewBox=\"0 0 24 24\"\n",
              "       width=\"24px\">\n",
              "    <path d=\"M7,19H8.4L18.45,9,17,7.55,7,17.6ZM5,21V16.75L18.45,3.32a2,2,0,0,1,2.83,0l1.4,1.43a1.91,1.91,0,0,1,.58,1.4,1.91,1.91,0,0,1-.58,1.4L9.25,21ZM18.45,9,17,7.55Zm-12,3A5.31,5.31,0,0,0,4.9,8.1,5.31,5.31,0,0,0,1,6.5,5.31,5.31,0,0,0,4.9,4.9,5.31,5.31,0,0,0,6.5,1,5.31,5.31,0,0,0,8.1,4.9,5.31,5.31,0,0,0,12,6.5,5.46,5.46,0,0,0,6.5,12Z\"/>\n",
              "  </svg>\n",
              "    </button>\n",
              "    <script>\n",
              "      (() => {\n",
              "      const buttonEl =\n",
              "        document.querySelector('#id_007da82c-9640-47c1-8777-14843b8560a3 button.colab-df-generate');\n",
              "      buttonEl.style.display =\n",
              "        google.colab.kernel.accessAllowed ? 'block' : 'none';\n",
              "\n",
              "      buttonEl.onclick = () => {\n",
              "        google.colab.notebook.generateWithVariable('summary_df');\n",
              "      }\n",
              "      })();\n",
              "    </script>\n",
              "  </div>\n",
              "\n",
              "    </div>\n",
              "  </div>\n"
            ],
            "application/vnd.google.colaboratory.intrinsic+json": {
              "type": "dataframe",
              "variable_name": "summary_df",
              "summary": "{\n  \"name\": \"summary_df\",\n  \"rows\": 3,\n  \"fields\": [\n    {\n      \"column\": \"Model\",\n      \"properties\": {\n        \"dtype\": \"string\",\n        \"num_unique_values\": 3,\n        \"samples\": [\n          \"Baseline\",\n          \"PSO Default\",\n          \"PSO Optimized\"\n        ],\n        \"semantic_type\": \"\",\n        \"description\": \"\"\n      }\n    },\n    {\n      \"column\": \"Train Time (s)\",\n      \"properties\": {\n        \"dtype\": \"number\",\n        \"std\": 0.22287646439867914,\n        \"min\": 0.4494802951812744,\n        \"max\": 0.8609638214111328,\n        \"num_unique_values\": 3,\n        \"samples\": [\n          0.8609638214111328,\n          0.5067877769470215,\n          0.4494802951812744\n        ],\n        \"semantic_type\": \"\",\n        \"description\": \"\"\n      }\n    },\n    {\n      \"column\": \"#Features\",\n      \"properties\": {\n        \"dtype\": \"number\",\n        \"std\": 7031,\n        \"min\": 12255,\n        \"max\": 24482,\n        \"num_unique_values\": 3,\n        \"samples\": [\n          24482,\n          12255,\n          12353\n        ],\n        \"semantic_type\": \"\",\n        \"description\": \"\"\n      }\n    }\n  ]\n}"
            }
          },
          "metadata": {},
          "execution_count": 108
        }
      ]
    },
    {
      "cell_type": "code",
      "source": [],
      "metadata": {
        "id": "7UESB8I8t7dx"
      },
      "execution_count": null,
      "outputs": []
    }
  ]
}